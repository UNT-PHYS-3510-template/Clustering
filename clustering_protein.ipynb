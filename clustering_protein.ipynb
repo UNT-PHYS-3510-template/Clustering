{
 "cells": [
  {
   "cell_type": "markdown",
   "metadata": {},
   "source": [
    "# Assignment 2: K-Means Clustering on Protein Dataset"
   ]
  },
  {
   "cell_type": "markdown",
   "metadata": {},
   "source": [
    "Import the usual modules"
   ]
  },
  {
   "cell_type": "code",
   "execution_count": 1,
   "metadata": {},
   "outputs": [],
   "source": [
    "import numpy as np\n",
    "import matplotlib.pyplot as plt\n",
    "import pandas as pd"
   ]
  },
  {
   "cell_type": "markdown",
   "metadata": {},
   "source": [
    "Read the file into a Pandas DataFrame."
   ]
  },
  {
   "cell_type": "code",
   "execution_count": 26,
   "metadata": {},
   "outputs": [
    {
     "data": {
      "text/html": [
       "<div>\n",
       "<style scoped>\n",
       "    .dataframe tbody tr th:only-of-type {\n",
       "        vertical-align: middle;\n",
       "    }\n",
       "\n",
       "    .dataframe tbody tr th {\n",
       "        vertical-align: top;\n",
       "    }\n",
       "\n",
       "    .dataframe thead th {\n",
       "        text-align: right;\n",
       "    }\n",
       "</style>\n",
       "<table border=\"1\" class=\"dataframe\">\n",
       "  <thead>\n",
       "    <tr style=\"text-align: right;\">\n",
       "      <th></th>\n",
       "      <th>ELEMENT</th>\n",
       "      <th>R</th>\n",
       "      <th>SUR_CONT_5.0</th>\n",
       "      <th>SUR_CONT_10.0</th>\n",
       "      <th>SUR_CONT_15.0</th>\n",
       "      <th>SUR_CONT_20.0</th>\n",
       "      <th>SUR_CONT_25.0</th>\n",
       "      <th>SUR_CONT_30.0</th>\n",
       "      <th>VOL_CONT_5.0</th>\n",
       "      <th>VOL_CONT_10.0</th>\n",
       "      <th>VOL_CONT_15.0</th>\n",
       "      <th>VOL_CONT_20.0</th>\n",
       "      <th>VOL_CONT_25.0</th>\n",
       "      <th>VOL_CONT_30.0</th>\n",
       "      <th>X</th>\n",
       "      <th>Y</th>\n",
       "      <th>Z</th>\n",
       "    </tr>\n",
       "  </thead>\n",
       "  <tbody>\n",
       "    <tr>\n",
       "      <th>0</th>\n",
       "      <td>N</td>\n",
       "      <td>1.8300</td>\n",
       "      <td>121.522571</td>\n",
       "      <td>548.881028</td>\n",
       "      <td>1264.830463</td>\n",
       "      <td>2289.518419</td>\n",
       "      <td>3391.337424</td>\n",
       "      <td>3653.967363</td>\n",
       "      <td>223.210796</td>\n",
       "      <td>1143.797421</td>\n",
       "      <td>3207.296557</td>\n",
       "      <td>5795.562616</td>\n",
       "      <td>7437.812100</td>\n",
       "      <td>7679.494767</td>\n",
       "      <td>0.074</td>\n",
       "      <td>3.305</td>\n",
       "      <td>12.661</td>\n",
       "    </tr>\n",
       "    <tr>\n",
       "      <th>1</th>\n",
       "      <td>C</td>\n",
       "      <td>1.9255</td>\n",
       "      <td>134.702052</td>\n",
       "      <td>636.530842</td>\n",
       "      <td>1387.827686</td>\n",
       "      <td>2514.313781</td>\n",
       "      <td>3500.515835</td>\n",
       "      <td>3671.055810</td>\n",
       "      <td>290.567109</td>\n",
       "      <td>1327.942094</td>\n",
       "      <td>3665.775446</td>\n",
       "      <td>6226.401736</td>\n",
       "      <td>7525.075946</td>\n",
       "      <td>7690.406892</td>\n",
       "      <td>0.320</td>\n",
       "      <td>3.899</td>\n",
       "      <td>11.317</td>\n",
       "    </tr>\n",
       "    <tr>\n",
       "      <th>2</th>\n",
       "      <td>C</td>\n",
       "      <td>1.9255</td>\n",
       "      <td>114.170039</td>\n",
       "      <td>810.368483</td>\n",
       "      <td>1933.682919</td>\n",
       "      <td>3205.454201</td>\n",
       "      <td>3625.612448</td>\n",
       "      <td>3677.940933</td>\n",
       "      <td>454.008471</td>\n",
       "      <td>2309.263868</td>\n",
       "      <td>5206.656879</td>\n",
       "      <td>7176.821360</td>\n",
       "      <td>7647.408006</td>\n",
       "      <td>7692.459359</td>\n",
       "      <td>0.793</td>\n",
       "      <td>1.870</td>\n",
       "      <td>8.105</td>\n",
       "    </tr>\n",
       "    <tr>\n",
       "      <th>3</th>\n",
       "      <td>C</td>\n",
       "      <td>1.9255</td>\n",
       "      <td>145.443717</td>\n",
       "      <td>534.715664</td>\n",
       "      <td>1293.692551</td>\n",
       "      <td>2189.031480</td>\n",
       "      <td>2983.734659</td>\n",
       "      <td>3550.846935</td>\n",
       "      <td>258.304961</td>\n",
       "      <td>1307.891841</td>\n",
       "      <td>3086.614355</td>\n",
       "      <td>5262.122889</td>\n",
       "      <td>6800.541229</td>\n",
       "      <td>7582.953084</td>\n",
       "      <td>10.492</td>\n",
       "      <td>8.361</td>\n",
       "      <td>3.293</td>\n",
       "    </tr>\n",
       "    <tr>\n",
       "      <th>4</th>\n",
       "      <td>O</td>\n",
       "      <td>1.7500</td>\n",
       "      <td>142.193057</td>\n",
       "      <td>537.457788</td>\n",
       "      <td>1295.587449</td>\n",
       "      <td>2192.705808</td>\n",
       "      <td>3036.771003</td>\n",
       "      <td>3571.304334</td>\n",
       "      <td>243.117558</td>\n",
       "      <td>1284.578485</td>\n",
       "      <td>3080.921720</td>\n",
       "      <td>5310.062713</td>\n",
       "      <td>6891.578978</td>\n",
       "      <td>7604.861335</td>\n",
       "      <td>9.417</td>\n",
       "      <td>9.223</td>\n",
       "      <td>3.637</td>\n",
       "    </tr>\n",
       "  </tbody>\n",
       "</table>\n",
       "</div>"
      ],
      "text/plain": [
       "  ELEMENT       R  SUR_CONT_5.0  SUR_CONT_10.0  SUR_CONT_15.0  SUR_CONT_20.0  \\\n",
       "0       N  1.8300    121.522571     548.881028    1264.830463    2289.518419   \n",
       "1       C  1.9255    134.702052     636.530842    1387.827686    2514.313781   \n",
       "2       C  1.9255    114.170039     810.368483    1933.682919    3205.454201   \n",
       "3       C  1.9255    145.443717     534.715664    1293.692551    2189.031480   \n",
       "4       O  1.7500    142.193057     537.457788    1295.587449    2192.705808   \n",
       "\n",
       "   SUR_CONT_25.0  SUR_CONT_30.0  VOL_CONT_5.0  VOL_CONT_10.0  VOL_CONT_15.0  \\\n",
       "0    3391.337424    3653.967363    223.210796    1143.797421    3207.296557   \n",
       "1    3500.515835    3671.055810    290.567109    1327.942094    3665.775446   \n",
       "2    3625.612448    3677.940933    454.008471    2309.263868    5206.656879   \n",
       "3    2983.734659    3550.846935    258.304961    1307.891841    3086.614355   \n",
       "4    3036.771003    3571.304334    243.117558    1284.578485    3080.921720   \n",
       "\n",
       "   VOL_CONT_20.0  VOL_CONT_25.0  VOL_CONT_30.0       X      Y       Z  \n",
       "0    5795.562616    7437.812100    7679.494767   0.074  3.305  12.661  \n",
       "1    6226.401736    7525.075946    7690.406892   0.320  3.899  11.317  \n",
       "2    7176.821360    7647.408006    7692.459359   0.793  1.870   8.105  \n",
       "3    5262.122889    6800.541229    7582.953084  10.492  8.361   3.293  \n",
       "4    5310.062713    6891.578978    7604.861335   9.417  9.223   3.637  "
      ]
     },
     "execution_count": 26,
     "metadata": {},
     "output_type": "execute_result"
    }
   ],
   "source": [
    "protein=pd.read_csv('protein_environ.csv')\n",
    "protein.head()"
   ]
  },
  {
   "cell_type": "markdown",
   "metadata": {},
   "source": [
    "Basic information of the dataset"
   ]
  },
  {
   "cell_type": "code",
   "execution_count": 27,
   "metadata": {},
   "outputs": [
    {
     "name": "stdout",
     "output_type": "stream",
     "text": [
      "<class 'pandas.core.frame.DataFrame'>\n",
      "RangeIndex: 753 entries, 0 to 752\n",
      "Data columns (total 17 columns):\n",
      " #   Column         Non-Null Count  Dtype  \n",
      "---  ------         --------------  -----  \n",
      " 0   ELEMENT        753 non-null    object \n",
      " 1   R              753 non-null    float64\n",
      " 2   SUR_CONT_5.0   753 non-null    float64\n",
      " 3   SUR_CONT_10.0  753 non-null    float64\n",
      " 4   SUR_CONT_15.0  753 non-null    float64\n",
      " 5   SUR_CONT_20.0  753 non-null    float64\n",
      " 6   SUR_CONT_25.0  753 non-null    float64\n",
      " 7   SUR_CONT_30.0  753 non-null    float64\n",
      " 8   VOL_CONT_5.0   753 non-null    float64\n",
      " 9   VOL_CONT_10.0  753 non-null    float64\n",
      " 10  VOL_CONT_15.0  753 non-null    float64\n",
      " 11  VOL_CONT_20.0  753 non-null    float64\n",
      " 12  VOL_CONT_25.0  753 non-null    float64\n",
      " 13  VOL_CONT_30.0  753 non-null    float64\n",
      " 14  X              753 non-null    float64\n",
      " 15  Y              753 non-null    float64\n",
      " 16  Z              753 non-null    float64\n",
      "dtypes: float64(16), object(1)\n",
      "memory usage: 100.1+ KB\n"
     ]
    }
   ],
   "source": [
    "protein.info()"
   ]
  },
  {
   "cell_type": "markdown",
   "metadata": {},
   "source": [
    "We only want to perform clustering based on the SUR_* and VOL_* features (thus not on \"ELEMENT\", \"R\", \"X\", \"Y\", or \"Z\"). Assignment 2A: from the DataFrame select the SUR_* and VOL* features and convert them into a numpy array to be used by the clustering algorithm."
   ]
  },
  {
   "cell_type": "code",
   "execution_count": null,
   "metadata": {},
   "outputs": [],
   "source": []
  },
  {
   "cell_type": "markdown",
   "metadata": {},
   "source": [
    "Assignment 2A: use the StandardScaler class of sklearn.preprocessing to standardize the selected features"
   ]
  },
  {
   "cell_type": "code",
   "execution_count": 102,
   "metadata": {},
   "outputs": [],
   "source": [
    "from sklearn.preprocessing import StandardScaler"
   ]
  },
  {
   "cell_type": "markdown",
   "metadata": {},
   "source": [
    "Assignment 2B: Using the KMeans class from sklearn.cluster perform k-means clustering with a number of clusters that vary from 2 to 10. "
   ]
  },
  {
   "cell_type": "code",
   "execution_count": 100,
   "metadata": {},
   "outputs": [],
   "source": [
    "from sklearn.cluster import KMeans\n",
    "from sklearn.metrics import silhouette_score\n"
   ]
  },
  {
   "cell_type": "markdown",
   "metadata": {},
   "source": [
    "Assignment 2B: Plot the inertia of the clusters as a function of the number of clusters. Pick a reasonable model. NOTE: the dataset was not designed for cluster, so it may be that the results cannot allow you to select an optimal method."
   ]
  },
  {
   "cell_type": "code",
   "execution_count": null,
   "metadata": {},
   "outputs": [],
   "source": []
  },
  {
   "cell_type": "markdown",
   "metadata": {},
   "source": [
    "Assignment 2C: Once you have a reasonable model, assign to each atom of the protein a cluster label (e.g. add a new column to the DataFrame with the cluster index). Select the atoms of the protein that have a \"Z\" coordinate close to zero (plus or minus 1 Angstrom) and visualize them in the X-Y plane using different colors for different clusters."
   ]
  },
  {
   "cell_type": "code",
   "execution_count": 103,
   "metadata": {},
   "outputs": [
    {
     "data": {
      "text/plain": [
       "<matplotlib.collections.PathCollection at 0x1362cf3d0>"
      ]
     },
     "execution_count": 103,
     "metadata": {},
     "output_type": "execute_result"
    },
    {
     "data": {
      "image/png": "[encoded data removed]",
      "text/plain": [
       "<Figure size 432x288 with 1 Axes>"
      ]
     },
     "metadata": {
      "needs_background": "light"
     },
     "output_type": "display_data"
    }
   ],
   "source": [
    "# The following commands show you how to visualize the atoms on a XY plane, selecting only those with Z close to zero\n",
    "mask=abs(protein[\"Z\"]<1).values # you can now select the rows of the DataFrame with Z close to zero by specifying DataFrame.loc[mask]\n",
    "x=protein[[\"X\"]].loc[mask].values\n",
    "y=protein[[\"Y\"]].loc[mask].values\n",
    "plt.scatter(x,y)\n",
    "# You may want to find a way to do scatter plots for each cluster group"
   ]
  }
 ],
 "metadata": {
  "interpreter": {
   "hash": "de7c8584ae51fbb089eecc0d6f203cc3cae3114d5c45556091d2c5b63465aa84"
  },
  "kernelspec": {
   "display_name": "Python 3.7.9 ('base')",
   "language": "python",
   "name": "python3"
  },
  "language_info": {
   "codemirror_mode": {
    "name": "ipython",
    "version": 3
   },
   "file_extension": ".py",
   "mimetype": "text/x-python",
   "name": "python",
   "nbconvert_exporter": "python",
   "pygments_lexer": "ipython3",
   "version": "3.8.9"
  },
  "orig_nbformat": 4
 },
 "nbformat": 4,
 "nbformat_minor": 2
}
